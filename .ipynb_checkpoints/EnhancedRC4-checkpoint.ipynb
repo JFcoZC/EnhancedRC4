{
 "cells": [
  {
   "cell_type": "markdown",
   "metadata": {},
   "source": [
    "# ENHANCED RC4"
   ]
  },
  {
   "cell_type": "code",
   "execution_count": 1,
   "metadata": {},
   "outputs": [],
   "source": [
    "#LIBRERIAS\n",
    "from random import randint\n",
    "import time\n",
    "\n",
    "#FUNCIONES\n",
    "\n",
    "#Given a 5 bytes/5 numbers(0-255) (40 bits input)\n",
    "#generate a secret key of 32 bits (4 bytes/4 numbers(0-255))\n",
    "def generateSecretKey(array):\n",
    "    \n",
    "    secretKey = []\n",
    "    \n",
    "    if len(array) == 5:\n",
    "        \n",
    "        bits = \"\"\n",
    "        secretKeyStr = \"\"\n",
    "        \n",
    "        #Concatenar los 40 bits\n",
    "        for i in array:\n",
    "            #byte representation of each number\n",
    "            strbyte = format(i,'#010b')\n",
    "            \n",
    "            #Remove the first 2 elements of strbyte that\n",
    "            #do not form part of the byte\n",
    "            bits = bits + strbyte[2:]\n",
    "            \n",
    "            #Remove the 1st bit of each byte to get\n",
    "            #35 bits\n",
    "            secretKeyStr = secretKeyStr + strbyte[3:]\n",
    "            \n",
    "        #End for 1  \n",
    "        \n",
    "        #Remove First, last and middle bit of 35 to get 32 bits\n",
    "        secretKeyStr = secretKeyStr[1:16]+secretKeyStr[17:34]\n",
    "        \n",
    "        print(\"40 bits input:\")\n",
    "        print(bits)\n",
    "        print(\"length:\", len(bits) )\n",
    "        \n",
    "        print(\"32 bits input:\")\n",
    "        print(secretKeyStr)\n",
    "        print(\"length:\", len(secretKeyStr) )\n",
    "        \n",
    "        #Convert array of bits to integers\n",
    "        for i in range(4):\n",
    "            \n",
    "            bytestr = secretKeyStr[(i*8):(i*8+8)]\n",
    "            integer = int( bytestr,2 )\n",
    "            secretKey.append(integer)\n",
    "            #------------------\n",
    "            print(i,\") \",bytestr)\n",
    "            print(integer)\n",
    "            #------------------\n",
    "            \n",
    "        #End for 2\n",
    "    \n",
    "    #end if\n",
    "    else:\n",
    "        print(\"Error, input debe ser de 5 bytes/5 numeros 0-255\")\n",
    "    #Ene else    \n",
    "    \n",
    "    return secretKey\n",
    "#-----------------------------\n",
    "#Generate unique IV from n number of random\n",
    "#integers [0-maxRandNumber]\n",
    "def generateIV(sizeIV,maxRandNumber):\n",
    "    \n",
    "    iv = []\n",
    "    \n",
    "    for i in range(sizeIV):\n",
    "        \n",
    "        iv.append( randint(0,maxRandNumber) )\n",
    "        \n",
    "    #End for    \n",
    "    \n",
    "    return iv\n",
    "    \n",
    "#End function generateIV\n",
    "#---------------------------\n",
    "#Using the heap algorithm obtain all the \n",
    "#posible permiutations of agiven array\n",
    "permutaciones = []\n",
    "\n",
    "def permutations(lengLista ,lista):\n",
    "    \n",
    "    #Caso de salida\n",
    "    if lengLista == 1:\n",
    "        #print(lista)\n",
    "        #Agregar permutaciones a variable global\n",
    "        permutaciones.append(lista.copy())\n",
    "    #End if 1   \n",
    "    else :\n",
    "        \n",
    "        #Recursive call with unaltered lista\n",
    "        permutations( (lengLista-1),lista )\n",
    "        \n",
    "        for i in range(lengLista-1):\n",
    "            \n",
    "            #Si es par\n",
    "            if lengLista%2 == 0:\n",
    "                swap( lista,i,(lengLista-1) )\n",
    "            #End if 2\n",
    "            #Si es impar\n",
    "            else:\n",
    "                swap( lista,0,(lengLista-1))\n",
    "            #End else 2 \n",
    "            \n",
    "            #Recursive call with altered lista\n",
    "            permutations( (lengLista-1),lista )\n",
    "            \n",
    "        #End for 1    \n",
    "        \n",
    "    #End else 1      \n",
    "    \n",
    "#End perutation function    \n",
    "#---------------------------\n",
    "def ksa(key1,key2,n):\n",
    "    \n",
    "    sone = []\n",
    "    stwo = []\n",
    "    \n",
    "    #Because i in range only iterates until 1 number before the\n",
    "    #max number, in both fors, we add 1 in n/2-1 and n-1 in order\n",
    "    #to reach all the numbers\n",
    "    for i in range( round(n/2) ):\n",
    "        sone.append(i)\n",
    "    #End for 1    \n",
    "    \n",
    "    for i in range( round(n/2) , (n) ):\n",
    "        stwo.append(i)\n",
    "    #End for 2    \n",
    "    \n",
    "    #-----------\n",
    "    #print(\"S-box one:\")\n",
    "    #print(sone)\n",
    "    #print(\"S-box two:\")\n",
    "    #print(stwo)\n",
    "    #----------\n",
    "    \n",
    "    j = 0\n",
    "    \n",
    "    #Iteration for each s-box\n",
    "    \n",
    "    #First s-box\n",
    "    for i in range(round(n/2)):\n",
    "        \n",
    "        actualValKey = key1[ mod(i, len(key1) )]\n",
    "        actualTotalVal = j + sone[i] +actualValKey\n",
    "        j = ( mod(actualTotalVal, round(n/2) ) )\n",
    "        #---------\n",
    "        #print(\"i: \",i,\"j: \",j,\"array length:\",len(sone))\n",
    "        #---------\n",
    "        swap(sone,i,j)\n",
    "        \n",
    "    #End for\n",
    "    \n",
    "    #Second s-box\n",
    "    for i in range(round(n/2)):\n",
    "        \n",
    "        actualValKey = key2[ mod(i, len(key2) )]\n",
    "        actualTotalVal = j + stwo[i] +actualValKey\n",
    "        j = ( mod(actualTotalVal, round(n/2) ) )\n",
    "        #---------\n",
    "        #print(\"i: \",i,\"j: \",j,\"array length:\",len(stwo))\n",
    "        #---------\n",
    "        swap(stwo,i,j)\n",
    "        \n",
    "    #End for\n",
    "    \n",
    "    #print(\"-- S-boxes after Key Scheduling Algorithm --\")\n",
    "    #print(\"S-box one:\")\n",
    "    #print(sone)\n",
    "    #print(\"S-box two:\")\n",
    "    #print(stwo)\n",
    "    \n",
    "    return[sone,stwo]\n",
    "    \n",
    "#End function ksa  \n",
    "#----------------------------------------\n",
    "def swapDifferentArrays(arrayi,posi,arrayj,posj):\n",
    "    \n",
    "    tempVar = arrayi[posi]\n",
    "    arrayi[posi] = arrayj[posj]\n",
    "    arrayj[posj] = tempVar \n",
    "    \n",
    "    return [arrayi, arrayj]\n",
    "#End function swap\n",
    "#----------------------------------------\n",
    "def swap(array,posi,posj):\n",
    "    \n",
    "    tempVar = array[posi]\n",
    "    array[posi] = array[posj]\n",
    "    array[posj] = tempVar \n",
    "    \n",
    "    return array\n",
    "#End function swap\n",
    "#----------------------------------------\n",
    "def mod(number,mod):\n",
    "    return (number%mod)\n",
    "#End function\n",
    "#----------------------------------------\n",
    "#Given to decilmal numbers perfrom XOR \n",
    "#and return value in decimal form\n",
    "def xorDec(none,ntwo):\n",
    "    return (none^ntwo)\n",
    "#End fucntion xorDec\n",
    "#----------------------------------------\n",
    "#Convert array of integers to it is character\n",
    "#representation\n",
    "def intArrToStr(integers):\n",
    "    \n",
    "    string = []\n",
    "    \n",
    "    for i in integers:\n",
    "        string.append(chr(i))\n",
    "    #End for     \n",
    "    \n",
    "    return string\n",
    "    \n",
    "#End fufnction    \n",
    "#----------------------------------------\n",
    "def pgra(sone,stwo,plainText,n):\n",
    "    \n",
    "    i = 0\n",
    "    j1 = 0\n",
    "    j2 = 0\n",
    "    keysSequence = []\n",
    "    cipherText = []\n",
    "    \n",
    "    #For each letter of the plain text\n",
    "    numberChars = len(plainText)\n",
    "    \n",
    "    #-------\n",
    "    #print(\"Sbox1 length:\",len(sone))\n",
    "    #print(\"Sbox2 length:\",len(stwo))\n",
    "    #print(\"Plain text length:\", len(plainText))\n",
    "    #-------\n",
    "    \n",
    "    while i < numberChars:\n",
    "        \n",
    "        i = mod( (i+1), round(n/2))\n",
    "        \n",
    "        j1 = mod( (j1+sone[i+1]) , round(n/2)) \n",
    "        newArrays = swapDifferentArrays(sone,(i+1),stwo,(j1+1))\n",
    "        sone = newArrays[0]\n",
    "        stwo = newArrays[1]\n",
    "        \n",
    "        indx1 = mod( (sone[i+1]+sone[j1+1]), round(n/2) )\n",
    "        temp1 = sone[indx1]\n",
    "        t1 = temp1 + 1\n",
    "        \n",
    "        j2 = mod( (j2+stwo[i+1]) , round(n/2))\n",
    "        newArrays = swapDifferentArrays(stwo,(i+1),sone,(j2+1))\n",
    "        sone = newArrays[0]\n",
    "        stwo = newArrays[1]\n",
    "        \n",
    "        indx2 = mod( (stwo[i+1]+stwo[j2+1]), round(n/2) )\n",
    "        temp2 = stwo[indx2]\n",
    "        t2 = temp2 + 1\n",
    "        \n",
    "        #Add the result of t1 XOR t2 to the key sequence\n",
    "        keysSequence.append(xorDec(t1,t2))\n",
    "        \n",
    "        #-------\n",
    "        #print(\"------\")\n",
    "        #print(\"i: \",i)\n",
    "        #print(\"j1: \",j1)\n",
    "        #print(\"t1: \",t1)\n",
    "        #print(\"j2: \",j2)\n",
    "        #print(\"t2: \",t2)\n",
    "        #------- \n",
    "        \n",
    "    #End while  \n",
    "    \n",
    "    #print(\"Keys for each character of plain text:\")\n",
    "    #print(keysSequence)\n",
    "        \n",
    "    #Xor between key sequence and the plain text\n",
    "    for i in range( len(keysSequence) ):\n",
    "        cipherText.append( xorDec( keysSequence[i], ord(plainText[i]) ) )\n",
    "    #End for   \n",
    "    \n",
    "    return cipherText\n",
    "    \n",
    "#End function pgra\n",
    "#----------------------------------------"
   ]
  },
  {
   "cell_type": "markdown",
   "metadata": {},
   "source": [
    "<h2 style='background-color:cyan';>KEYS GENERATION</h2>"
   ]
  },
  {
   "cell_type": "markdown",
   "metadata": {},
   "source": [
    "<h2 style='background-color:yellow';>Select secret key from sub-keys set</h2>"
   ]
  },
  {
   "cell_type": "code",
   "execution_count": 2,
   "metadata": {},
   "outputs": [
    {
     "name": "stdout",
     "output_type": "stream",
     "text": [
      "40 bits input:\n",
      "0001101101011001010110100000110010011011\n",
      "length: 40\n",
      "32 bits input:\n",
      "01101110110011010100001100001101\n",
      "length: 32\n",
      "0 )  01101110\n",
      "110\n",
      "1 )  11001101\n",
      "205\n",
      "2 )  01000011\n",
      "67\n",
      "3 )  00001101\n",
      "13\n",
      "Secret key:\n",
      "[110, 205, 67, 13]\n"
     ]
    }
   ],
   "source": [
    "secretKey = generateSecretKey([27,89,90,12,155])\n",
    "print(\"Secret key:\")\n",
    "print(secretKey)"
   ]
  },
  {
   "cell_type": "code",
   "execution_count": 3,
   "metadata": {
    "scrolled": true
   },
   "outputs": [
    {
     "name": "stdout",
     "output_type": "stream",
     "text": [
      "Sub-keys set:\n",
      "[[110, 205, 67, 13], [205, 110, 67, 13], [67, 110, 205, 13], [110, 67, 205, 13], [205, 67, 110, 13], [67, 205, 110, 13], [13, 205, 110, 67], [205, 13, 110, 67], [110, 13, 205, 67], [13, 110, 205, 67], [205, 110, 13, 67], [110, 205, 13, 67], [110, 67, 13, 205], [67, 110, 13, 205], [13, 110, 67, 205], [110, 13, 67, 205], [67, 13, 110, 205], [13, 67, 110, 205], [13, 67, 205, 110], [67, 13, 205, 110], [205, 13, 67, 110], [13, 205, 67, 110], [67, 205, 13, 110], [205, 67, 13, 110]]\n",
      "#Permutaciones '!arrayLength' : 24\n"
     ]
    }
   ],
   "source": [
    "permutations(len(secretKey),secretKey)\n",
    "print(\"Sub-keys set:\")\n",
    "print(permutaciones)\n",
    "print(\"#Permutaciones '!arrayLength' :\", len(permutaciones) ) "
   ]
  },
  {
   "cell_type": "code",
   "execution_count": 4,
   "metadata": {},
   "outputs": [],
   "source": [
    "#Select a random secret key from the set of Sub-keys set\n",
    "maxRandNumber = len(permutaciones)-1\n",
    "secKey = permutaciones[ randint(0,maxRandNumber) ]"
   ]
  },
  {
   "cell_type": "markdown",
   "metadata": {},
   "source": [
    "<h2 style='background-color:yellow';>Generate unique Initial Vector</h2>"
   ]
  },
  {
   "cell_type": "code",
   "execution_count": 5,
   "metadata": {},
   "outputs": [
    {
     "name": "stdout",
     "output_type": "stream",
     "text": [
      "Session key = Secret key (32 bits) + IV (32 bits)\n",
      "Secret key:  [110, 205, 13, 67]\n",
      "IV:  [70, 221, 145, 225]\n"
     ]
    }
   ],
   "source": [
    "#Intital vector of 4 random integers [0-255] = Initital Vector of 32 bits\n",
    "iv = generateIV(4,255)\n",
    "\n",
    "print(\"Session key = Secret key (32 bits) + IV (32 bits)\")\n",
    "print(\"Secret key: \", secKey)\n",
    "print(\"IV: \", iv)"
   ]
  },
  {
   "cell_type": "markdown",
   "metadata": {},
   "source": [
    "<h2 style='background-color:cyan';>RC4 ENCRYPTION</h2>"
   ]
  },
  {
   "cell_type": "markdown",
   "metadata": {},
   "source": [
    "<h2 style='background-color:yellow';>Key Scheduling Algorithm</h2>"
   ]
  },
  {
   "cell_type": "code",
   "execution_count": 6,
   "metadata": {
    "scrolled": true
   },
   "outputs": [
    {
     "name": "stderr",
     "output_type": "stream",
     "text": [
      "/anaconda3/lib/python3.7/site-packages/ipykernel_launcher.py:1: DeprecationWarning: time.clock has been deprecated in Python 3.3 and will be removed from Python 3.8: use time.perf_counter or time.process_time instead\n",
      "  \"\"\"Entry point for launching an IPython kernel.\n"
     ]
    }
   ],
   "source": [
    "initialTime = time.clock()\n",
    "sboxes = ksa(secKey,iv,256)\n",
    "#Pass arrays by value, since this are modified by the PRGA\n",
    "newSone = sboxes[0].copy()\n",
    "newStwo = sboxes[1].copy()"
   ]
  },
  {
   "cell_type": "markdown",
   "metadata": {},
   "source": [
    "<h2 style='background-color:yellow';>Pseudo Random Generation Algorithm</h2>"
   ]
  },
  {
   "cell_type": "code",
   "execution_count": 7,
   "metadata": {},
   "outputs": [
    {
     "ename": "IndexError",
     "evalue": "list index out of range",
     "output_type": "error",
     "traceback": [
      "\u001b[0;31m---------------------------------------------------------------------------\u001b[0m",
      "\u001b[0;31mIndexError\u001b[0m                                Traceback (most recent call last)",
      "\u001b[0;32m<ipython-input-7-b1d506bd6fd6>\u001b[0m in \u001b[0;36m<module>\u001b[0;34m\u001b[0m\n\u001b[1;32m      3\u001b[0m \u001b[0;32mfor\u001b[0m \u001b[0mletter\u001b[0m \u001b[0;32min\u001b[0m \u001b[0mtext\u001b[0m\u001b[0;34m:\u001b[0m\u001b[0;34m\u001b[0m\u001b[0;34m\u001b[0m\u001b[0m\n\u001b[1;32m      4\u001b[0m     \u001b[0marray\u001b[0m\u001b[0;34m.\u001b[0m\u001b[0mappend\u001b[0m\u001b[0;34m(\u001b[0m\u001b[0mletter\u001b[0m\u001b[0;34m)\u001b[0m\u001b[0;34m\u001b[0m\u001b[0;34m\u001b[0m\u001b[0m\n\u001b[0;32m----> 5\u001b[0;31m \u001b[0mcipherTextDecimal\u001b[0m \u001b[0;34m=\u001b[0m \u001b[0mpgra\u001b[0m\u001b[0;34m(\u001b[0m\u001b[0mnewSone\u001b[0m\u001b[0;34m,\u001b[0m\u001b[0mnewStwo\u001b[0m\u001b[0;34m,\u001b[0m\u001b[0marray\u001b[0m\u001b[0;34m,\u001b[0m\u001b[0;36m256\u001b[0m\u001b[0;34m)\u001b[0m\u001b[0;34m\u001b[0m\u001b[0;34m\u001b[0m\u001b[0m\n\u001b[0m\u001b[1;32m      6\u001b[0m \u001b[0mfinalTime\u001b[0m \u001b[0;34m=\u001b[0m \u001b[0mtime\u001b[0m\u001b[0;34m.\u001b[0m\u001b[0mclock\u001b[0m\u001b[0;34m(\u001b[0m\u001b[0;34m)\u001b[0m\u001b[0;34m\u001b[0m\u001b[0;34m\u001b[0m\u001b[0m\n\u001b[1;32m      7\u001b[0m \u001b[0mprint\u001b[0m\u001b[0;34m(\u001b[0m\u001b[0;34m\"cipher text:\"\u001b[0m\u001b[0;34m)\u001b[0m\u001b[0;34m\u001b[0m\u001b[0;34m\u001b[0m\u001b[0m\n",
      "\u001b[0;32m<ipython-input-1-eac407a78f5d>\u001b[0m in \u001b[0;36mpgra\u001b[0;34m(sone, stwo, plainText, n)\u001b[0m\n\u001b[1;32m    242\u001b[0m \u001b[0;34m\u001b[0m\u001b[0m\n\u001b[1;32m    243\u001b[0m         \u001b[0mj1\u001b[0m \u001b[0;34m=\u001b[0m \u001b[0mmod\u001b[0m\u001b[0;34m(\u001b[0m \u001b[0;34m(\u001b[0m\u001b[0mj1\u001b[0m\u001b[0;34m+\u001b[0m\u001b[0msone\u001b[0m\u001b[0;34m[\u001b[0m\u001b[0mi\u001b[0m\u001b[0;34m+\u001b[0m\u001b[0;36m1\u001b[0m\u001b[0;34m]\u001b[0m\u001b[0;34m)\u001b[0m \u001b[0;34m,\u001b[0m \u001b[0mround\u001b[0m\u001b[0;34m(\u001b[0m\u001b[0mn\u001b[0m\u001b[0;34m/\u001b[0m\u001b[0;36m2\u001b[0m\u001b[0;34m)\u001b[0m\u001b[0;34m)\u001b[0m\u001b[0;34m\u001b[0m\u001b[0;34m\u001b[0m\u001b[0m\n\u001b[0;32m--> 244\u001b[0;31m         \u001b[0mnewArrays\u001b[0m \u001b[0;34m=\u001b[0m \u001b[0mswapDifferentArrays\u001b[0m\u001b[0;34m(\u001b[0m\u001b[0msone\u001b[0m\u001b[0;34m,\u001b[0m\u001b[0;34m(\u001b[0m\u001b[0mi\u001b[0m\u001b[0;34m+\u001b[0m\u001b[0;36m1\u001b[0m\u001b[0;34m)\u001b[0m\u001b[0;34m,\u001b[0m\u001b[0mstwo\u001b[0m\u001b[0;34m,\u001b[0m\u001b[0;34m(\u001b[0m\u001b[0mj1\u001b[0m\u001b[0;34m+\u001b[0m\u001b[0;36m1\u001b[0m\u001b[0;34m)\u001b[0m\u001b[0;34m)\u001b[0m\u001b[0;34m\u001b[0m\u001b[0;34m\u001b[0m\u001b[0m\n\u001b[0m\u001b[1;32m    245\u001b[0m         \u001b[0msone\u001b[0m \u001b[0;34m=\u001b[0m \u001b[0mnewArrays\u001b[0m\u001b[0;34m[\u001b[0m\u001b[0;36m0\u001b[0m\u001b[0;34m]\u001b[0m\u001b[0;34m\u001b[0m\u001b[0;34m\u001b[0m\u001b[0m\n\u001b[1;32m    246\u001b[0m         \u001b[0mstwo\u001b[0m \u001b[0;34m=\u001b[0m \u001b[0mnewArrays\u001b[0m\u001b[0;34m[\u001b[0m\u001b[0;36m1\u001b[0m\u001b[0;34m]\u001b[0m\u001b[0;34m\u001b[0m\u001b[0;34m\u001b[0m\u001b[0m\n",
      "\u001b[0;32m<ipython-input-1-eac407a78f5d>\u001b[0m in \u001b[0;36mswapDifferentArrays\u001b[0;34m(arrayi, posi, arrayj, posj)\u001b[0m\n\u001b[1;32m    181\u001b[0m \u001b[0;34m\u001b[0m\u001b[0m\n\u001b[1;32m    182\u001b[0m     \u001b[0mtempVar\u001b[0m \u001b[0;34m=\u001b[0m \u001b[0marrayi\u001b[0m\u001b[0;34m[\u001b[0m\u001b[0mposi\u001b[0m\u001b[0;34m]\u001b[0m\u001b[0;34m\u001b[0m\u001b[0;34m\u001b[0m\u001b[0m\n\u001b[0;32m--> 183\u001b[0;31m     \u001b[0marrayi\u001b[0m\u001b[0;34m[\u001b[0m\u001b[0mposi\u001b[0m\u001b[0;34m]\u001b[0m \u001b[0;34m=\u001b[0m \u001b[0marrayj\u001b[0m\u001b[0;34m[\u001b[0m\u001b[0mposj\u001b[0m\u001b[0;34m]\u001b[0m\u001b[0;34m\u001b[0m\u001b[0;34m\u001b[0m\u001b[0m\n\u001b[0m\u001b[1;32m    184\u001b[0m     \u001b[0marrayj\u001b[0m\u001b[0;34m[\u001b[0m\u001b[0mposj\u001b[0m\u001b[0;34m]\u001b[0m \u001b[0;34m=\u001b[0m \u001b[0mtempVar\u001b[0m\u001b[0;34m\u001b[0m\u001b[0;34m\u001b[0m\u001b[0m\n\u001b[1;32m    185\u001b[0m \u001b[0;34m\u001b[0m\u001b[0m\n",
      "\u001b[0;31mIndexError\u001b[0m: list index out of range"
     ]
    }
   ],
   "source": [
    "array = []\n",
    "text = 'Lorem ipsum dolor sit amet, vix in alterum repudiandae, usu solum utinam perfecto an. Cum et tota eripuit denique, ad veri nostro aperiam pro. Per id impetus appellantur, vix verear aliquid signiferumque an, ne mea erant tempor erroribus. Perfecto referrentur consequuntur et his, sea ea case copiosae deterruisset, purto populo indoctum te qui. Sea delicata constituto ut, at ius assueverit consectetuer, discere oportere ex usu. Sint iusto ea ius. Reformidans concludaturque id mea, ne sea malorum legendos erroribus, id melius eleifend urbanitas sit. No sea ferri invenire intellegebat, meis neglegentur usu ex. Singulis torquatos pri ut. Nemore eruditi placerat at.'\n",
    "for letter in text:\n",
    "    array.append(letter)\n",
    "cipherTextDecimal = pgra(newSone,newStwo,array,256)\n",
    "finalTime = time.clock()\n",
    "print(\"cipher text:\")\n",
    "print(cipherTextDecimal)\n",
    "\n",
    "cipherText = intArrToStr(cipherTextDecimal)\n",
    "print(cipherText)\n",
    "print(\"Time: \", finalTime-initialTime)"
   ]
  },
  {
   "cell_type": "markdown",
   "metadata": {},
   "source": [
    "<h2 style='background-color:cyan';>RC4 DECRYPTION</h2>"
   ]
  },
  {
   "cell_type": "code",
   "execution_count": null,
   "metadata": {},
   "outputs": [],
   "source": [
    "#Reset sboxes with values generated by KSA:\n",
    "#Pass arrays by value, since this are modified by the PRGA\n",
    "newSone = sboxes[0].copy()\n",
    "newStwo = sboxes[1].copy()\n",
    "\n",
    "#Perform XOR between the keysequence, generated from sone and stwo, and the cipherText\n",
    "plainTextDecimal = pgra(newSone,newStwo, cipherText,256)\n",
    "print(\"plain text:\")\n",
    "print(plainTextDecimal)\n",
    "\n",
    "plaint = intArrToStr(plainTextDecimal)\n",
    "print(plaint)"
   ]
  },
  {
   "cell_type": "code",
   "execution_count": null,
   "metadata": {},
   "outputs": [],
   "source": []
  },
  {
   "cell_type": "code",
   "execution_count": null,
   "metadata": {},
   "outputs": [],
   "source": []
  },
  {
   "cell_type": "code",
   "execution_count": null,
   "metadata": {},
   "outputs": [],
   "source": []
  },
  {
   "cell_type": "code",
   "execution_count": null,
   "metadata": {},
   "outputs": [],
   "source": []
  }
 ],
 "metadata": {
  "kernelspec": {
   "display_name": "Python 3",
   "language": "python",
   "name": "python3"
  },
  "language_info": {
   "codemirror_mode": {
    "name": "ipython",
    "version": 3
   },
   "file_extension": ".py",
   "mimetype": "text/x-python",
   "name": "python",
   "nbconvert_exporter": "python",
   "pygments_lexer": "ipython3",
   "version": "3.7.1"
  }
 },
 "nbformat": 4,
 "nbformat_minor": 2
}
